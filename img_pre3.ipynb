{
  "nbformat": 4,
  "nbformat_minor": 0,
  "metadata": {
    "colab": {
      "private_outputs": true,
      "provenance": []
    },
    "kernelspec": {
      "name": "python3",
      "display_name": "Python 3"
    },
    "language_info": {
      "name": "python"
    }
  },
  "cells": [
    {
      "cell_type": "code",
      "execution_count": null,
      "metadata": {
        "id": "YhmNI7u0fbyn"
      },
      "outputs": [],
      "source": [
        "from os import path\n",
        "from google.colab import drive\n",
        "drive.mount('/content/drive', force_remount=True)\n",
        "\n",
        "%cd /content/drive/MyDrive/\n",
        "#%cd Colab Notebooks\n",
        "%cd SF/RB\n",
        "\n",
        "import numpy as np\n",
        "# os  모듈을 로딩 하고 디렉토리 확인\n",
        "import os\n",
        "print(os.getcwd())"
      ]
    },
    {
      "cell_type": "code",
      "source": [
        "# 디렉토리 위치 바꾸기\n",
        "%pwd\n",
        "data_dir = os.chdir(\"./dataimg/rbimgset1\")"
      ],
      "metadata": {
        "id": "aGdOO6zAuuYi"
      },
      "execution_count": null,
      "outputs": []
    },
    {
      "cell_type": "code",
      "source": [
        "import glob  #\n",
        "from glob import glob\n",
        "\n",
        "# 파일이름을 리스트 형태로 변환 하는데 사용\n",
        "%ls\n",
        "data_list = glob('*.tif')\n",
        "#data_list[1:5]\n",
        "\n",
        "# 리스트의 갯수\n",
        "len(data_list)"
      ],
      "metadata": {
        "id": "bPp2Q3dxnUEy"
      },
      "execution_count": null,
      "outputs": []
    },
    {
      "cell_type": "markdown",
      "source": [],
      "metadata": {
        "id": "3lul1EnvQ4Gl"
      }
    },
    {
      "cell_type": "code",
      "source": [
        "import tensorflow\n",
        "print(tensorflow.__version__)\n",
        "\n",
        "import keras\n",
        "print(keras.__version__) # tensorflow , keras version 같아야함,\n",
        "!pip install --upgrade tensorflow==2.6.0\n",
        "!pip install --upgrade keras==2.6.0 #2.8 version 문제 있음"
      ],
      "metadata": {
        "id": "PKh-gWvqQgRH"
      },
      "execution_count": null,
      "outputs": []
    },
    {
      "cell_type": "markdown",
      "source": [
        "**텍스트 토큰화**"
      ],
      "metadata": {
        "id": "vbskpZESwZs0"
      }
    },
    {
      "cell_type": "code",
      "source": [
        "# 케라스의  text_to_word_sequence 모듈을 로딩한다.\n",
        "#from tensorflow.python.keras.layers import Dense\n",
        "import tensorflow as tf\n",
        "print(tf.__version__)\n",
        "\n",
        "from tensorflow.keras import datasets, layers, models\n",
        "import cv2\n",
        "from tensorflow.keras.preprocessing.text import text_to_word_sequence\n",
        "text_to_word_sequence(data_list[0])"
      ],
      "metadata": {
        "id": "p38RBw6jhYkn"
      },
      "execution_count": null,
      "outputs": []
    },
    {
      "cell_type": "code",
      "source": [
        "label = []\n",
        "for n, path in enumerate(data_list[:100]):\n",
        "    token = text_to_word_sequence(data_list[n])\n",
        "    label.append(token[0])\n"
      ],
      "metadata": {
        "id": "Tc3aIVAgxWeM"
      },
      "execution_count": null,
      "outputs": []
    },
    {
      "cell_type": "markdown",
      "source": [
        "**라벨변환\n",
        "**"
      ],
      "metadata": {
        "id": "CGtSK9Ffxl8D"
      }
    },
    {
      "cell_type": "code",
      "source": [
        "from sklearn.preprocessing import LabelEncoder\n",
        "items = label\n",
        "encoder = LabelEncoder()\n",
        "encoder.fit(items)\n",
        "label = encoder.transform(items)\n",
        "\n",
        "# lebel 디코딩 확인한다\n",
        "encoder.inverse_transform(label)"
      ],
      "metadata": {
        "id": "pAsCnRNtxsb6"
      },
      "execution_count": null,
      "outputs": []
    },
    {
      "cell_type": "markdown",
      "source": [
        "**이미지변환,  이미지--> array**"
      ],
      "metadata": {
        "id": "tFVvt1lByGyF"
      }
    },
    {
      "cell_type": "code",
      "source": [
        "import cv2\n",
        "from matplotlib import pyplot as plt\n",
        "\n",
        "# 100번째 있는 사진의 샘플을 본다.\n",
        "img = cv2.imread(data_list[20])\n",
        "plt.imshow(img)\n",
        "plt.show()\n"
      ],
      "metadata": {
        "id": "3l5GcrZOyPcJ"
      },
      "execution_count": null,
      "outputs": []
    },
    {
      "cell_type": "code",
      "source": [
        "# 이미지를 데이터 셋으로 변환 하고,  이것을 255로 나누어 0 ~ 1로 스케일 한다.\n",
        "image = cv2.imread(data_list[0])/255\n",
        "image.shape"
      ],
      "metadata": {
        "id": "bq9H4GoLyxvB"
      },
      "execution_count": null,
      "outputs": []
    },
    {
      "cell_type": "code",
      "source": [
        "# 데이터 초기화\n",
        "data_height = 150\n",
        "data_width = 150\n",
        "channel_n = 3\n",
        "\n",
        "# label 100- len(daata_list)개를 하였다고 가정하자\n",
        "images = np.zeros((len(data_list), data_height, data_width, channel_n))\n",
        "for n, path in enumerate(data_list[:len(data_list)]):\n",
        "    image = cv2.imread(data_list[n], cv2.IMREAD_COLOR)\n",
        "    image = cv2.resize(image, (data_height, data_width))\n",
        "    plt.imshow(cv2.cvtColor(image, cv2.COLOR_BGR2RGB))\n",
        "    plt.show()\n",
        "\n",
        "    image_gray = cv2.cvtColor(image, cv2.COLOR_BGR2GRAY)\n",
        "    plt.imshow(cv2.cvtColor(image, cv2.COLOR_BGR2RGB))\n",
        "    plt.show()\n",
        "    images[n, :, :, :] =image\n",
        "\n",
        "image.shape"
      ],
      "metadata": {
        "id": "QU67pHJVkNne"
      },
      "execution_count": null,
      "outputs": []
    },
    {
      "cell_type": "code",
      "source": [],
      "metadata": {
        "id": "MFVYL_IrkN5m"
      },
      "execution_count": null,
      "outputs": []
    }
  ]
}